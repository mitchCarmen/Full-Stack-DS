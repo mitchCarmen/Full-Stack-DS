{
 "cells": [
  {
   "cell_type": "code",
   "execution_count": null,
   "metadata": {},
   "outputs": [],
   "source": [
    "# test run on local machine before on digital ocean"
   ]
  },
  {
   "cell_type": "code",
   "execution_count": 1,
   "metadata": {},
   "outputs": [],
   "source": [
    "import numpy as np\n",
    "import pandas as pd\n",
    "\n",
    "from date_time_preprocessor import *\n",
    "\n",
    "from sklearn.base import TransformerMixin, BaseEstimator\n",
    "from sklearn.model_selection import train_test_split, GridSearchCV\n",
    "from sklearn.preprocessing import OneHotEncoder, StandardScaler\n",
    "from sklearn.pipeline import Pipeline\n",
    "from sklearn.compose import ColumnTransformer\n",
    "from sklearn.impute import SimpleImputer\n",
    "from sklearn.metrics import log_loss, classification_report, roc_auc_score\n",
    "import category_encoders as ce\n",
    "import lightgbm as lgb\n",
    "\n",
    "import pickle\n",
    "import os"
   ]
  },
  {
   "cell_type": "code",
   "execution_count": 2,
   "metadata": {},
   "outputs": [],
   "source": [
    "class CustomInferenceModel():\n",
    "    \"\"\"\n",
    "    This is a template for Python inference model scoring code.\n",
    "    It loads the custom model pickle, performs any necessary preprocessing or feature engineering,\n",
    "    and then performs predictions.\n",
    "    Note: If your model is a binary classification model, you will likely want your predict\n",
    "           function to use `predict_proba`, whereas for regression you will want to use `predict`\n",
    "    \"\"\"\n",
    "\n",
    "    def __init__(self, path_to_model=\"{}/LGBM_gridCV_flights_model.pkl\".format(os.getcwd())):\n",
    "        \"\"\"Load the model pickle file.\"\"\"\n",
    "\n",
    "        \n",
    "        \n",
    "        with open(path_to_model, \"rb\") as picklefile:\n",
    "            self.model = pickle.load(picklefile)\n",
    "\n",
    "  \n",
    "    def feat_eng_datetime(self, df):\n",
    "        \"\"\"Takes a raw airline df and engineers new date time features that will be used for modeling\"\"\"\n",
    "                \n",
    "        df['FlightDate'] = pd.to_datetime(df['FlightDate'])\n",
    "        df['Day_of_Week'] = df['FlightDate'].dt.day_name()\n",
    "        df['Year'] = pd.DatetimeIndex(df['FlightDate']).year.astype('category')\n",
    "        df['Month'] = pd.DatetimeIndex(df['FlightDate']).month.astype('category')\n",
    "        df['Day'] = pd.DatetimeIndex(df['FlightDate']).day.astype('category')\n",
    "        df['Hour'] = pd.to_datetime(df['DepTime'], format='%H:%M').dt.hour.astype('category')\n",
    "        df['Minutes'] = pd.to_datetime(df['DepTime'], format='%H:%M').dt.minute.astype('category')\n",
    "        df['DepTime'] = pd.to_datetime(df['DepTime'], format='%H:%M').dt.time\n",
    "#        df = df.drop(columns=['FlightDate','DepTime'])\n",
    "        \n",
    "        return df\n",
    "\n",
    "\n",
    "    def predict(self, X, positive_class_label=None, negative_class_label=None, **kwargs):\n",
    "        \"\"\"\n",
    "        Predict with the pickled custom model.\n",
    "        If your model is for classification, you likely want to ensure this function\n",
    "        calls `predict_proba()`, whereas for regression it should use `predict()`\n",
    "        \"\"\"\n",
    "        X = self.feat_eng_datetime(X)\n",
    "        prediction = self.model.predict(X)\n",
    "        return prediction\n",
    "\n",
    "custom_model = CustomInferenceModel()"
   ]
  },
  {
   "cell_type": "code",
   "execution_count": 3,
   "metadata": {},
   "outputs": [
    {
     "name": "stdout",
     "output_type": "stream",
     "text": [
      "(406045, 8)\n"
     ]
    },
    {
     "data": {
      "text/html": [
       "<div>\n",
       "<style scoped>\n",
       "    .dataframe tbody tr th:only-of-type {\n",
       "        vertical-align: middle;\n",
       "    }\n",
       "\n",
       "    .dataframe tbody tr th {\n",
       "        vertical-align: top;\n",
       "    }\n",
       "\n",
       "    .dataframe thead th {\n",
       "        text-align: right;\n",
       "    }\n",
       "</style>\n",
       "<table border=\"1\" class=\"dataframe\">\n",
       "  <thead>\n",
       "    <tr style=\"text-align: right;\">\n",
       "      <th></th>\n",
       "      <th>FlightDate</th>\n",
       "      <th>DepTime</th>\n",
       "      <th>UniqueCarrier</th>\n",
       "      <th>Origin</th>\n",
       "      <th>Dest</th>\n",
       "      <th>Distance</th>\n",
       "      <th>dep_delayed_15min</th>\n",
       "      <th>Day_of_Week</th>\n",
       "    </tr>\n",
       "  </thead>\n",
       "  <tbody>\n",
       "    <tr>\n",
       "      <th>0</th>\n",
       "      <td>1/17/10</td>\n",
       "      <td>17:05</td>\n",
       "      <td>MQ</td>\n",
       "      <td>CVG</td>\n",
       "      <td>DFW</td>\n",
       "      <td>812</td>\n",
       "      <td>1</td>\n",
       "      <td>Sunday</td>\n",
       "    </tr>\n",
       "    <tr>\n",
       "      <th>1</th>\n",
       "      <td>1/29/10</td>\n",
       "      <td>17:03</td>\n",
       "      <td>MQ</td>\n",
       "      <td>OMA</td>\n",
       "      <td>ORD</td>\n",
       "      <td>416</td>\n",
       "      <td>0</td>\n",
       "      <td>Friday</td>\n",
       "    </tr>\n",
       "    <tr>\n",
       "      <th>2</th>\n",
       "      <td>1/31/10</td>\n",
       "      <td>18:03</td>\n",
       "      <td>US</td>\n",
       "      <td>SJC</td>\n",
       "      <td>PHX</td>\n",
       "      <td>622</td>\n",
       "      <td>0</td>\n",
       "      <td>Sunday</td>\n",
       "    </tr>\n",
       "    <tr>\n",
       "      <th>3</th>\n",
       "      <td>1/26/10</td>\n",
       "      <td>16:42</td>\n",
       "      <td>YV</td>\n",
       "      <td>MTJ</td>\n",
       "      <td>DEN</td>\n",
       "      <td>197</td>\n",
       "      <td>0</td>\n",
       "      <td>Tuesday</td>\n",
       "    </tr>\n",
       "    <tr>\n",
       "      <th>4</th>\n",
       "      <td>1/6/10</td>\n",
       "      <td>17:53</td>\n",
       "      <td>US</td>\n",
       "      <td>PHL</td>\n",
       "      <td>ORD</td>\n",
       "      <td>678</td>\n",
       "      <td>0</td>\n",
       "      <td>Wednesday</td>\n",
       "    </tr>\n",
       "  </tbody>\n",
       "</table>\n",
       "</div>"
      ],
      "text/plain": [
       "  FlightDate DepTime UniqueCarrier Origin Dest  Distance  dep_delayed_15min  \\\n",
       "0    1/17/10   17:05            MQ    CVG  DFW       812                  1   \n",
       "1    1/29/10   17:03            MQ    OMA  ORD       416                  0   \n",
       "2    1/31/10   18:03            US    SJC  PHX       622                  0   \n",
       "3    1/26/10   16:42            YV    MTJ  DEN       197                  0   \n",
       "4     1/6/10   17:53            US    PHL  ORD       678                  0   \n",
       "\n",
       "  Day_of_Week  \n",
       "0      Sunday  \n",
       "1      Friday  \n",
       "2      Sunday  \n",
       "3     Tuesday  \n",
       "4   Wednesday  "
      ]
     },
     "execution_count": 3,
     "metadata": {},
     "output_type": "execute_result"
    }
   ],
   "source": [
    "# TRAINING DATA \n",
    "path = '/Users/mitchell.carmen/Documents/FullStack_DS/'\n",
    "df_raw = pd.read_csv(path + 'data/airline_delay_train.csv')\n",
    "print(df_raw.shape)\n",
    "df_raw.head()"
   ]
  },
  {
   "cell_type": "code",
   "execution_count": 4,
   "metadata": {},
   "outputs": [
    {
     "name": "stdout",
     "output_type": "stream",
     "text": [
      "(40000, 6)\n"
     ]
    },
    {
     "data": {
      "text/html": [
       "<div>\n",
       "<style scoped>\n",
       "    .dataframe tbody tr th:only-of-type {\n",
       "        vertical-align: middle;\n",
       "    }\n",
       "\n",
       "    .dataframe tbody tr th {\n",
       "        vertical-align: top;\n",
       "    }\n",
       "\n",
       "    .dataframe thead th {\n",
       "        text-align: right;\n",
       "    }\n",
       "</style>\n",
       "<table border=\"1\" class=\"dataframe\">\n",
       "  <thead>\n",
       "    <tr style=\"text-align: right;\">\n",
       "      <th></th>\n",
       "      <th>FlightDate</th>\n",
       "      <th>DepTime</th>\n",
       "      <th>UniqueCarrier</th>\n",
       "      <th>Origin</th>\n",
       "      <th>Dest</th>\n",
       "      <th>Distance</th>\n",
       "    </tr>\n",
       "  </thead>\n",
       "  <tbody>\n",
       "    <tr>\n",
       "      <th>0</th>\n",
       "      <td>2/2/10</td>\n",
       "      <td>8:30</td>\n",
       "      <td>WN</td>\n",
       "      <td>CLE</td>\n",
       "      <td>MDW</td>\n",
       "      <td>307</td>\n",
       "    </tr>\n",
       "    <tr>\n",
       "      <th>1</th>\n",
       "      <td>2/2/10</td>\n",
       "      <td>11:29</td>\n",
       "      <td>WN</td>\n",
       "      <td>CLE</td>\n",
       "      <td>MDW</td>\n",
       "      <td>307</td>\n",
       "    </tr>\n",
       "    <tr>\n",
       "      <th>2</th>\n",
       "      <td>2/2/10</td>\n",
       "      <td>14:24</td>\n",
       "      <td>WN</td>\n",
       "      <td>CLE</td>\n",
       "      <td>MDW</td>\n",
       "      <td>307</td>\n",
       "    </tr>\n",
       "    <tr>\n",
       "      <th>3</th>\n",
       "      <td>2/2/10</td>\n",
       "      <td>6:25</td>\n",
       "      <td>WN</td>\n",
       "      <td>CLE</td>\n",
       "      <td>MDW</td>\n",
       "      <td>307</td>\n",
       "    </tr>\n",
       "    <tr>\n",
       "      <th>4</th>\n",
       "      <td>2/2/10</td>\n",
       "      <td>19:30</td>\n",
       "      <td>WN</td>\n",
       "      <td>CLE</td>\n",
       "      <td>MDW</td>\n",
       "      <td>307</td>\n",
       "    </tr>\n",
       "  </tbody>\n",
       "</table>\n",
       "</div>"
      ],
      "text/plain": [
       "  FlightDate DepTime UniqueCarrier Origin Dest  Distance\n",
       "0     2/2/10    8:30            WN    CLE  MDW       307\n",
       "1     2/2/10   11:29            WN    CLE  MDW       307\n",
       "2     2/2/10   14:24            WN    CLE  MDW       307\n",
       "3     2/2/10    6:25            WN    CLE  MDW       307\n",
       "4     2/2/10   19:30            WN    CLE  MDW       307"
      ]
     },
     "execution_count": 4,
     "metadata": {},
     "output_type": "execute_result"
    }
   ],
   "source": [
    "# PRODUCTION DATA\n",
    "production_dat = pd.read_csv('/Users/mitchell.carmen/Documents/FullStack_DS/Prod_Assets/pred_file_1.csv')\n",
    "print(production_dat.shape)\n",
    "production_dat.head()"
   ]
  },
  {
   "cell_type": "code",
   "execution_count": 5,
   "metadata": {},
   "outputs": [
    {
     "name": "stderr",
     "output_type": "stream",
     "text": [
      "/Users/mitchell.carmen/opt/anaconda3/lib/python3.8/site-packages/sklearn/compose/_column_transformer.py:437: FutureWarning: Given feature/column names or counts do not match the ones for the data given during fit. This will fail from v0.24.\n",
      "  warnings.warn(\"Given feature/column names or counts do not match \"\n"
     ]
    },
    {
     "data": {
      "text/plain": [
       "array([0, 0, 0, ..., 0, 0, 0])"
      ]
     },
     "execution_count": 5,
     "metadata": {},
     "output_type": "execute_result"
    }
   ],
   "source": [
    "custom_model.predict(production_dat)"
   ]
  },
  {
   "cell_type": "code",
   "execution_count": null,
   "metadata": {},
   "outputs": [],
   "source": []
  }
 ],
 "metadata": {
  "kernelspec": {
   "display_name": "Python 3",
   "language": "python",
   "name": "python3"
  },
  "language_info": {
   "codemirror_mode": {
    "name": "ipython",
    "version": 3
   },
   "file_extension": ".py",
   "mimetype": "text/x-python",
   "name": "python",
   "nbconvert_exporter": "python",
   "pygments_lexer": "ipython3",
   "version": "3.8.3"
  }
 },
 "nbformat": 4,
 "nbformat_minor": 4
}
