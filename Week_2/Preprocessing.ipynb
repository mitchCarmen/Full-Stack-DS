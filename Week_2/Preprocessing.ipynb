{
 "cells": [
  {
   "cell_type": "markdown",
   "metadata": {},
   "source": [
    "# IMPORT LIBRARIES"
   ]
  },
  {
   "cell_type": "code",
   "execution_count": 1,
   "metadata": {},
   "outputs": [],
   "source": [
    "import numpy as np\n",
    "import pandas as pd\n",
    "\n",
    "from date_time_preprocessor import *\n",
    "\n",
    "from sklearn.base import TransformerMixin, BaseEstimator\n",
    "from sklearn.model_selection import train_test_split, GridSearchCV\n",
    "from sklearn.pipeline import Pipeline\n",
    "from sklearn.impute import SimpleImputer\n",
    "from sklearn.preprocessing import OneHotEncoder, StandardScaler\n",
    "from sklearn.compose import ColumnTransformer\n",
    "from sklearn.ensemble import GradientBoostingClassifier\n",
    "from sklearn.metrics import log_loss, classification_report, roc_auc_score\n",
    "import pickle"
   ]
  },
  {
   "cell_type": "markdown",
   "metadata": {},
   "source": [
    "# IMPORT DATA"
   ]
  },
  {
   "cell_type": "code",
   "execution_count": 2,
   "metadata": {},
   "outputs": [
    {
     "name": "stdout",
     "output_type": "stream",
     "text": [
      "(406045, 8)\n"
     ]
    }
   ],
   "source": [
    "path = '/Users/mitchell.carmen/Documents/FullStack_DS/'\n",
    "df_raw = pd.read_csv(path + 'data/airline_delay_train.csv')\n",
    "print(df_raw.shape)"
   ]
  },
  {
   "cell_type": "code",
   "execution_count": 3,
   "metadata": {},
   "outputs": [
    {
     "name": "stdout",
     "output_type": "stream",
     "text": [
      "Running feature engineering\n",
      "(406045, 11)\n"
     ]
    }
   ],
   "source": [
    "# Applying date_time_preprocessor.py\n",
    "training = feat_eng_datetime(df_raw)\n",
    "print(training.shape)"
   ]
  },
  {
   "cell_type": "code",
   "execution_count": 4,
   "metadata": {},
   "outputs": [
    {
     "name": "stdout",
     "output_type": "stream",
     "text": [
      "0.19120787104877537\n"
     ]
    }
   ],
   "source": [
    "# Balance Proportion\n",
    "print(training.dep_delayed_15min.sum() / training.shape[0])"
   ]
  },
  {
   "cell_type": "markdown",
   "metadata": {},
   "source": [
    "# SETTING UP PARTITIONS FOR TRAINING / VALIDATION"
   ]
  },
  {
   "cell_type": "code",
   "execution_count": 5,
   "metadata": {},
   "outputs": [
    {
     "name": "stdout",
     "output_type": "stream",
     "text": [
      "(365440, 10)\n",
      "(365440,)\n",
      "(40605, 10)\n",
      "(40605,)\n"
     ]
    }
   ],
   "source": [
    "X = training.drop([\"dep_delayed_15min\"], axis=1)\n",
    "y = training[\"dep_delayed_15min\"]\n",
    "\n",
    "X_train, X_test, y_train, y_test = train_test_split(\n",
    "    X, y,\n",
    "    random_state=21,\n",
    "    test_size=0.1,\n",
    "    stratify=y)\n",
    "\n",
    "print(X_train.shape)\n",
    "print(y_train.shape)\n",
    "print(X_test.shape)\n",
    "print(y_test.shape)"
   ]
  },
  {
   "cell_type": "code",
   "execution_count": 6,
   "metadata": {},
   "outputs": [
    {
     "name": "stdout",
     "output_type": "stream",
     "text": [
      "0.19120785901926446\n",
      "0.1912079793128925\n"
     ]
    }
   ],
   "source": [
    "# Stratification Check\n",
    "print(y_train.sum()/X_train.shape[0])\n",
    "print(y_test.sum()/X_test.shape[0])"
   ]
  },
  {
   "cell_type": "code",
   "execution_count": 7,
   "metadata": {},
   "outputs": [
    {
     "data": {
      "text/html": [
       "<div>\n",
       "<style scoped>\n",
       "    .dataframe tbody tr th:only-of-type {\n",
       "        vertical-align: middle;\n",
       "    }\n",
       "\n",
       "    .dataframe tbody tr th {\n",
       "        vertical-align: top;\n",
       "    }\n",
       "\n",
       "    .dataframe thead th {\n",
       "        text-align: right;\n",
       "    }\n",
       "</style>\n",
       "<table border=\"1\" class=\"dataframe\">\n",
       "  <thead>\n",
       "    <tr style=\"text-align: right;\">\n",
       "      <th></th>\n",
       "      <th>UniqueCarrier</th>\n",
       "      <th>Origin</th>\n",
       "      <th>Dest</th>\n",
       "      <th>Distance</th>\n",
       "      <th>Day_of_Week</th>\n",
       "      <th>Year</th>\n",
       "      <th>Month</th>\n",
       "      <th>Day</th>\n",
       "      <th>Hour</th>\n",
       "      <th>Minutes</th>\n",
       "    </tr>\n",
       "  </thead>\n",
       "  <tbody>\n",
       "    <tr>\n",
       "      <th>186812</th>\n",
       "      <td>MQ</td>\n",
       "      <td>IND</td>\n",
       "      <td>MIA</td>\n",
       "      <td>1021</td>\n",
       "      <td>Tuesday</td>\n",
       "      <td>2010</td>\n",
       "      <td>1</td>\n",
       "      <td>12</td>\n",
       "      <td>15</td>\n",
       "      <td>56</td>\n",
       "    </tr>\n",
       "    <tr>\n",
       "      <th>216851</th>\n",
       "      <td>XE</td>\n",
       "      <td>OKC</td>\n",
       "      <td>IAH</td>\n",
       "      <td>395</td>\n",
       "      <td>Monday</td>\n",
       "      <td>2010</td>\n",
       "      <td>1</td>\n",
       "      <td>4</td>\n",
       "      <td>13</td>\n",
       "      <td>24</td>\n",
       "    </tr>\n",
       "    <tr>\n",
       "      <th>115164</th>\n",
       "      <td>YV</td>\n",
       "      <td>PHX</td>\n",
       "      <td>ELP</td>\n",
       "      <td>347</td>\n",
       "      <td>Wednesday</td>\n",
       "      <td>2010</td>\n",
       "      <td>1</td>\n",
       "      <td>27</td>\n",
       "      <td>12</td>\n",
       "      <td>54</td>\n",
       "    </tr>\n",
       "    <tr>\n",
       "      <th>212366</th>\n",
       "      <td>WN</td>\n",
       "      <td>DEN</td>\n",
       "      <td>SAT</td>\n",
       "      <td>794</td>\n",
       "      <td>Wednesday</td>\n",
       "      <td>2010</td>\n",
       "      <td>1</td>\n",
       "      <td>20</td>\n",
       "      <td>17</td>\n",
       "      <td>0</td>\n",
       "    </tr>\n",
       "    <tr>\n",
       "      <th>113600</th>\n",
       "      <td>AA</td>\n",
       "      <td>LAS</td>\n",
       "      <td>DFW</td>\n",
       "      <td>1055</td>\n",
       "      <td>Friday</td>\n",
       "      <td>2010</td>\n",
       "      <td>1</td>\n",
       "      <td>22</td>\n",
       "      <td>11</td>\n",
       "      <td>25</td>\n",
       "    </tr>\n",
       "    <tr>\n",
       "      <th>269534</th>\n",
       "      <td>OO</td>\n",
       "      <td>LAX</td>\n",
       "      <td>ELP</td>\n",
       "      <td>714</td>\n",
       "      <td>Wednesday</td>\n",
       "      <td>2010</td>\n",
       "      <td>1</td>\n",
       "      <td>6</td>\n",
       "      <td>13</td>\n",
       "      <td>14</td>\n",
       "    </tr>\n",
       "    <tr>\n",
       "      <th>403202</th>\n",
       "      <td>US</td>\n",
       "      <td>ORD</td>\n",
       "      <td>PHX</td>\n",
       "      <td>1440</td>\n",
       "      <td>Sunday</td>\n",
       "      <td>2010</td>\n",
       "      <td>1</td>\n",
       "      <td>3</td>\n",
       "      <td>3</td>\n",
       "      <td>5</td>\n",
       "    </tr>\n",
       "    <tr>\n",
       "      <th>337266</th>\n",
       "      <td>YV</td>\n",
       "      <td>CLT</td>\n",
       "      <td>IAD</td>\n",
       "      <td>321</td>\n",
       "      <td>Sunday</td>\n",
       "      <td>2010</td>\n",
       "      <td>1</td>\n",
       "      <td>3</td>\n",
       "      <td>16</td>\n",
       "      <td>20</td>\n",
       "    </tr>\n",
       "    <tr>\n",
       "      <th>297801</th>\n",
       "      <td>AA</td>\n",
       "      <td>MSP</td>\n",
       "      <td>ORD</td>\n",
       "      <td>334</td>\n",
       "      <td>Tuesday</td>\n",
       "      <td>2010</td>\n",
       "      <td>1</td>\n",
       "      <td>5</td>\n",
       "      <td>20</td>\n",
       "      <td>56</td>\n",
       "    </tr>\n",
       "    <tr>\n",
       "      <th>265646</th>\n",
       "      <td>WN</td>\n",
       "      <td>LAS</td>\n",
       "      <td>PHX</td>\n",
       "      <td>256</td>\n",
       "      <td>Thursday</td>\n",
       "      <td>2010</td>\n",
       "      <td>1</td>\n",
       "      <td>28</td>\n",
       "      <td>21</td>\n",
       "      <td>8</td>\n",
       "    </tr>\n",
       "    <tr>\n",
       "      <th>281001</th>\n",
       "      <td>AA</td>\n",
       "      <td>MIA</td>\n",
       "      <td>EWR</td>\n",
       "      <td>1086</td>\n",
       "      <td>Friday</td>\n",
       "      <td>2010</td>\n",
       "      <td>1</td>\n",
       "      <td>1</td>\n",
       "      <td>20</td>\n",
       "      <td>50</td>\n",
       "    </tr>\n",
       "    <tr>\n",
       "      <th>116032</th>\n",
       "      <td>AA</td>\n",
       "      <td>MIA</td>\n",
       "      <td>BOS</td>\n",
       "      <td>1258</td>\n",
       "      <td>Thursday</td>\n",
       "      <td>2010</td>\n",
       "      <td>1</td>\n",
       "      <td>14</td>\n",
       "      <td>17</td>\n",
       "      <td>20</td>\n",
       "    </tr>\n",
       "    <tr>\n",
       "      <th>312948</th>\n",
       "      <td>EV</td>\n",
       "      <td>ILM</td>\n",
       "      <td>ATL</td>\n",
       "      <td>377</td>\n",
       "      <td>Sunday</td>\n",
       "      <td>2010</td>\n",
       "      <td>1</td>\n",
       "      <td>10</td>\n",
       "      <td>11</td>\n",
       "      <td>59</td>\n",
       "    </tr>\n",
       "    <tr>\n",
       "      <th>166055</th>\n",
       "      <td>OO</td>\n",
       "      <td>GJT</td>\n",
       "      <td>DEN</td>\n",
       "      <td>212</td>\n",
       "      <td>Wednesday</td>\n",
       "      <td>2010</td>\n",
       "      <td>1</td>\n",
       "      <td>20</td>\n",
       "      <td>17</td>\n",
       "      <td>11</td>\n",
       "    </tr>\n",
       "    <tr>\n",
       "      <th>136672</th>\n",
       "      <td>OO</td>\n",
       "      <td>LAX</td>\n",
       "      <td>SMX</td>\n",
       "      <td>135</td>\n",
       "      <td>Monday</td>\n",
       "      <td>2010</td>\n",
       "      <td>1</td>\n",
       "      <td>18</td>\n",
       "      <td>23</td>\n",
       "      <td>14</td>\n",
       "    </tr>\n",
       "    <tr>\n",
       "      <th>120713</th>\n",
       "      <td>WN</td>\n",
       "      <td>SJC</td>\n",
       "      <td>LAS</td>\n",
       "      <td>387</td>\n",
       "      <td>Sunday</td>\n",
       "      <td>2010</td>\n",
       "      <td>1</td>\n",
       "      <td>24</td>\n",
       "      <td>10</td>\n",
       "      <td>54</td>\n",
       "    </tr>\n",
       "    <tr>\n",
       "      <th>262252</th>\n",
       "      <td>WN</td>\n",
       "      <td>MHT</td>\n",
       "      <td>BWI</td>\n",
       "      <td>377</td>\n",
       "      <td>Friday</td>\n",
       "      <td>2010</td>\n",
       "      <td>1</td>\n",
       "      <td>29</td>\n",
       "      <td>18</td>\n",
       "      <td>2</td>\n",
       "    </tr>\n",
       "    <tr>\n",
       "      <th>317739</th>\n",
       "      <td>MQ</td>\n",
       "      <td>BRO</td>\n",
       "      <td>DFW</td>\n",
       "      <td>482</td>\n",
       "      <td>Friday</td>\n",
       "      <td>2010</td>\n",
       "      <td>1</td>\n",
       "      <td>29</td>\n",
       "      <td>12</td>\n",
       "      <td>9</td>\n",
       "    </tr>\n",
       "    <tr>\n",
       "      <th>397366</th>\n",
       "      <td>UA</td>\n",
       "      <td>CMH</td>\n",
       "      <td>DEN</td>\n",
       "      <td>1155</td>\n",
       "      <td>Sunday</td>\n",
       "      <td>2010</td>\n",
       "      <td>1</td>\n",
       "      <td>10</td>\n",
       "      <td>15</td>\n",
       "      <td>41</td>\n",
       "    </tr>\n",
       "    <tr>\n",
       "      <th>197055</th>\n",
       "      <td>US</td>\n",
       "      <td>ATL</td>\n",
       "      <td>CLT</td>\n",
       "      <td>227</td>\n",
       "      <td>Wednesday</td>\n",
       "      <td>2010</td>\n",
       "      <td>1</td>\n",
       "      <td>13</td>\n",
       "      <td>11</td>\n",
       "      <td>9</td>\n",
       "    </tr>\n",
       "  </tbody>\n",
       "</table>\n",
       "</div>"
      ],
      "text/plain": [
       "       UniqueCarrier Origin Dest  Distance Day_of_Week  Year Month Day Hour  \\\n",
       "186812            MQ    IND  MIA      1021     Tuesday  2010     1  12   15   \n",
       "216851            XE    OKC  IAH       395      Monday  2010     1   4   13   \n",
       "115164            YV    PHX  ELP       347   Wednesday  2010     1  27   12   \n",
       "212366            WN    DEN  SAT       794   Wednesday  2010     1  20   17   \n",
       "113600            AA    LAS  DFW      1055      Friday  2010     1  22   11   \n",
       "269534            OO    LAX  ELP       714   Wednesday  2010     1   6   13   \n",
       "403202            US    ORD  PHX      1440      Sunday  2010     1   3    3   \n",
       "337266            YV    CLT  IAD       321      Sunday  2010     1   3   16   \n",
       "297801            AA    MSP  ORD       334     Tuesday  2010     1   5   20   \n",
       "265646            WN    LAS  PHX       256    Thursday  2010     1  28   21   \n",
       "281001            AA    MIA  EWR      1086      Friday  2010     1   1   20   \n",
       "116032            AA    MIA  BOS      1258    Thursday  2010     1  14   17   \n",
       "312948            EV    ILM  ATL       377      Sunday  2010     1  10   11   \n",
       "166055            OO    GJT  DEN       212   Wednesday  2010     1  20   17   \n",
       "136672            OO    LAX  SMX       135      Monday  2010     1  18   23   \n",
       "120713            WN    SJC  LAS       387      Sunday  2010     1  24   10   \n",
       "262252            WN    MHT  BWI       377      Friday  2010     1  29   18   \n",
       "317739            MQ    BRO  DFW       482      Friday  2010     1  29   12   \n",
       "397366            UA    CMH  DEN      1155      Sunday  2010     1  10   15   \n",
       "197055            US    ATL  CLT       227   Wednesday  2010     1  13   11   \n",
       "\n",
       "       Minutes  \n",
       "186812      56  \n",
       "216851      24  \n",
       "115164      54  \n",
       "212366       0  \n",
       "113600      25  \n",
       "269534      14  \n",
       "403202       5  \n",
       "337266      20  \n",
       "297801      56  \n",
       "265646       8  \n",
       "281001      50  \n",
       "116032      20  \n",
       "312948      59  \n",
       "166055      11  \n",
       "136672      14  \n",
       "120713      54  \n",
       "262252       2  \n",
       "317739       9  \n",
       "397366      41  \n",
       "197055       9  "
      ]
     },
     "execution_count": 7,
     "metadata": {},
     "output_type": "execute_result"
    }
   ],
   "source": [
    "X_train.head(20)"
   ]
  },
  {
   "cell_type": "code",
   "execution_count": 8,
   "metadata": {},
   "outputs": [
    {
     "name": "stdout",
     "output_type": "stream",
     "text": [
      "<class 'pandas.core.frame.DataFrame'>\n",
      "Int64Index: 365440 entries, 186812 to 293692\n",
      "Data columns (total 10 columns):\n",
      " #   Column         Non-Null Count   Dtype   \n",
      "---  ------         --------------   -----   \n",
      " 0   UniqueCarrier  365440 non-null  object  \n",
      " 1   Origin         365440 non-null  object  \n",
      " 2   Dest           365440 non-null  object  \n",
      " 3   Distance       365440 non-null  int64   \n",
      " 4   Day_of_Week    365440 non-null  object  \n",
      " 5   Year           365440 non-null  category\n",
      " 6   Month          365440 non-null  category\n",
      " 7   Day            365440 non-null  category\n",
      " 8   Hour           365440 non-null  category\n",
      " 9   Minutes        365440 non-null  category\n",
      "dtypes: category(5), int64(1), object(4)\n",
      "memory usage: 18.5+ MB\n"
     ]
    }
   ],
   "source": [
    "X_train.info()"
   ]
  },
  {
   "cell_type": "markdown",
   "metadata": {},
   "source": [
    "# CREATE VAR TYPES"
   ]
  },
  {
   "cell_type": "code",
   "execution_count": 9,
   "metadata": {},
   "outputs": [],
   "source": [
    "numerical_cols = list(X_train.select_dtypes(include=['int64']).columns)\n",
    "categorical_cols = list(X_train.select_dtypes(include=['object', 'category']).columns)\n",
    "# datetime_cols = list(X_train.select_dtypes(include=['datetime64[ns]']).columns)"
   ]
  },
  {
   "cell_type": "markdown",
   "metadata": {},
   "source": [
    "# PRE PROCESSING PIPELINE"
   ]
  },
  {
   "cell_type": "code",
   "execution_count": 10,
   "metadata": {},
   "outputs": [],
   "source": [
    "# Numerical Features\n",
    "numeric_transformer = Pipeline(steps=[\n",
    "    ('imputer', SimpleImputer(strategy='median', add_indicator=True)),\n",
    "    ('scaler', StandardScaler())])\n",
    "\n",
    "# Categorical Features\n",
    "categorical_transformer = Pipeline(steps=[\n",
    "    ('imputer', SimpleImputer(strategy='constant', fill_value='missing', add_indicator=True)),\n",
    "    ('onehot', OneHotEncoder(handle_unknown='ignore'))])\n",
    "\n",
    "# Date Time Features\n",
    "\n",
    "\n",
    "# Assemble Column Transformer for Pipeline\n",
    "preprocessor_pipe = ColumnTransformer(\n",
    "    transformers=[\n",
    "        ('num', numeric_transformer, numerical_cols),\n",
    "        ('cat', categorical_transformer, categorical_cols)])"
   ]
  },
  {
   "cell_type": "code",
   "execution_count": null,
   "metadata": {},
   "outputs": [],
   "source": [
    "# Fitting Preprocessor to Training Data -- Do not ever include Test Data here!\n",
    "#preprocessor_pipe.fit(X_train) # Don't need to fit the preprocessor here as it will be done below"
   ]
  },
  {
   "cell_type": "markdown",
   "metadata": {},
   "source": [
    "# MODEL BUILD PROTOTYPE"
   ]
  },
  {
   "cell_type": "code",
   "execution_count": null,
   "metadata": {},
   "outputs": [],
   "source": [
    "gbtmodel = GradientBoostingClassifier(n_estimators=35, \n",
    "                                      learning_rate=0.01,\n",
    "                                      max_depth=20)\n",
    "\n",
    "# Append the gbt() to the preprocessor\n",
    "full_pipe = Pipeline(steps=[('preprocessor', preprocessor_pipe),\n",
    "                     ('classifier', gbtmodel)])\n",
    "\n",
    "################################################################################\n",
    "################################################################################\n",
    "\n",
    "# WARNING!!!! -------- LONG TIME TRAINING\n",
    "\n",
    "# hyper_params_grid = {\n",
    "#     'classifier__n_estimators': [400],\n",
    "#     'max_depth': [5,10],\n",
    "#     'learning_rate': [0.001, 0.01, 0.1]\n",
    "# }\n",
    "\n",
    "# print('Running Model')\n",
    "# CV = GridSearchCV(full_pipe, hyper_params_grid, n_jobs= -1,scoring='roc_auc')\n",
    "# CV.fit(X_train, y_train)  \n",
    "\n",
    "# print(CV.get_params())\n",
    "# print(CV.best_params_)\n",
    "\n",
    "################################################################################\n",
    "################################################################################\n",
    "\n",
    "# NOTE!!!! -------- SHORT TIME TRAINING (For quick testing)\n",
    "\n",
    "# Fit the full pipeline-- preprocessor and model-- on training data\n",
    "full_pipe.fit(X_train, y_train)"
   ]
  },
  {
   "cell_type": "markdown",
   "metadata": {},
   "source": [
    "# VALIDATING MODEL PROTOTYPE"
   ]
  },
  {
   "cell_type": "code",
   "execution_count": 12,
   "metadata": {},
   "outputs": [],
   "source": [
    "# target_names = y_test.unique().astype(str)\n",
    "\n",
    "# # Cross-Valiation\n",
    "# y_preds = CV.predict(X_test)\n",
    "\n",
    "# print(classification_report(y_test, y_preds, target_names=target_names))\n",
    "# print(\"{}{}\".format(\"Cross - Validation: \", CV.best_score_))\n",
    "# print(\"{}{}\".format(\"Validation: \", CV.score(X_test,y_test)))\n",
    "\n",
    "# Non Cross Validation\n",
    "y_preds = full_pipe.predict(X_test)"
   ]
  },
  {
   "cell_type": "code",
   "execution_count": null,
   "metadata": {},
   "outputs": [],
   "source": [
    "X_test.head()"
   ]
  },
  {
   "cell_type": "code",
   "execution_count": null,
   "metadata": {},
   "outputs": [],
   "source": [
    "full_pipe.predict_proba(X_test)"
   ]
  },
  {
   "cell_type": "code",
   "execution_count": null,
   "metadata": {},
   "outputs": [],
   "source": [
    "full_pipe.predict_proba(X_train)"
   ]
  },
  {
   "cell_type": "code",
   "execution_count": null,
   "metadata": {},
   "outputs": [],
   "source": []
  },
  {
   "cell_type": "code",
   "execution_count": 13,
   "metadata": {},
   "outputs": [
    {
     "name": "stdout",
     "output_type": "stream",
     "text": [
      "0.5956046972987313\n"
     ]
    }
   ],
   "source": [
    "# print(log_loss(y_test, y_preds))\n",
    "# print(classification_report(y_test, y_preds))\n",
    "print(roc_auc_score(y_test, y_preds))"
   ]
  },
  {
   "cell_type": "markdown",
   "metadata": {},
   "source": [
    "# SAVE MODEL PIPELINE"
   ]
  },
  {
   "cell_type": "code",
   "execution_count": null,
   "metadata": {},
   "outputs": [],
   "source": [
    "full_pipe.feature_names = list(X_train.columns.values)\n",
    "pickle.dump(full_pipe, open(path + 'RF_flights_model.sav', 'wb'))"
   ]
  }
 ],
 "metadata": {
  "kernelspec": {
   "display_name": "Python 3",
   "language": "python",
   "name": "python3"
  },
  "language_info": {
   "codemirror_mode": {
    "name": "ipython",
    "version": 3
   },
   "file_extension": ".py",
   "mimetype": "text/x-python",
   "name": "python",
   "nbconvert_exporter": "python",
   "pygments_lexer": "ipython3",
   "version": "3.8.3"
  }
 },
 "nbformat": 4,
 "nbformat_minor": 4
}
