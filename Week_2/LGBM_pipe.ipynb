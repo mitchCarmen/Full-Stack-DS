{
 "cells": [
  {
   "cell_type": "markdown",
   "metadata": {},
   "source": [
    "# IMPORT LIBRARIES"
   ]
  },
  {
   "cell_type": "code",
   "execution_count": 1,
   "metadata": {},
   "outputs": [],
   "source": [
    "import numpy as np\n",
    "import pandas as pd\n",
    "\n",
    "from date_time_preprocessor import *\n",
    "\n",
    "from sklearn.base import TransformerMixin, BaseEstimator\n",
    "from sklearn.model_selection import train_test_split, GridSearchCV\n",
    "from sklearn.preprocessing import OneHotEncoder, StandardScaler\n",
    "from sklearn.pipeline import Pipeline\n",
    "from sklearn.compose import ColumnTransformer\n",
    "from sklearn.impute import SimpleImputer\n",
    "from sklearn.metrics import log_loss, classification_report, roc_auc_score\n",
    "import category_encoders as ce\n",
    "import lightgbm as lgb\n",
    "\n",
    "import pickle"
   ]
  },
  {
   "cell_type": "markdown",
   "metadata": {},
   "source": [
    "# IMPORT DATA"
   ]
  },
  {
   "cell_type": "code",
   "execution_count": 2,
   "metadata": {},
   "outputs": [
    {
     "name": "stdout",
     "output_type": "stream",
     "text": [
      "(406045, 8)\n"
     ]
    }
   ],
   "source": [
    "path = '/Users/mitchell.carmen/Documents/FullStack_DS/'\n",
    "df_raw = pd.read_csv(path + 'data/airline_delay_train.csv')\n",
    "print(df_raw.shape)"
   ]
  },
  {
   "cell_type": "code",
   "execution_count": 3,
   "metadata": {},
   "outputs": [
    {
     "name": "stdout",
     "output_type": "stream",
     "text": [
      "Running feature engineering\n",
      "(406045, 11)\n"
     ]
    }
   ],
   "source": [
    "# Applying date_time_preprocessor.py\n",
    "training = feat_eng_datetime(df_raw)\n",
    "print(training.shape)"
   ]
  },
  {
   "cell_type": "code",
   "execution_count": 4,
   "metadata": {},
   "outputs": [
    {
     "data": {
      "text/html": [
       "<div>\n",
       "<style scoped>\n",
       "    .dataframe tbody tr th:only-of-type {\n",
       "        vertical-align: middle;\n",
       "    }\n",
       "\n",
       "    .dataframe tbody tr th {\n",
       "        vertical-align: top;\n",
       "    }\n",
       "\n",
       "    .dataframe thead th {\n",
       "        text-align: right;\n",
       "    }\n",
       "</style>\n",
       "<table border=\"1\" class=\"dataframe\">\n",
       "  <thead>\n",
       "    <tr style=\"text-align: right;\">\n",
       "      <th></th>\n",
       "      <th>UniqueCarrier</th>\n",
       "      <th>Origin</th>\n",
       "      <th>Dest</th>\n",
       "      <th>Distance</th>\n",
       "      <th>dep_delayed_15min</th>\n",
       "      <th>Day_of_Week</th>\n",
       "      <th>Year</th>\n",
       "      <th>Month</th>\n",
       "      <th>Day</th>\n",
       "      <th>Hour</th>\n",
       "      <th>Minutes</th>\n",
       "    </tr>\n",
       "  </thead>\n",
       "  <tbody>\n",
       "    <tr>\n",
       "      <th>0</th>\n",
       "      <td>MQ</td>\n",
       "      <td>CVG</td>\n",
       "      <td>DFW</td>\n",
       "      <td>812</td>\n",
       "      <td>1</td>\n",
       "      <td>Sunday</td>\n",
       "      <td>2010</td>\n",
       "      <td>1</td>\n",
       "      <td>17</td>\n",
       "      <td>17</td>\n",
       "      <td>5</td>\n",
       "    </tr>\n",
       "    <tr>\n",
       "      <th>1</th>\n",
       "      <td>MQ</td>\n",
       "      <td>OMA</td>\n",
       "      <td>ORD</td>\n",
       "      <td>416</td>\n",
       "      <td>0</td>\n",
       "      <td>Friday</td>\n",
       "      <td>2010</td>\n",
       "      <td>1</td>\n",
       "      <td>29</td>\n",
       "      <td>17</td>\n",
       "      <td>3</td>\n",
       "    </tr>\n",
       "    <tr>\n",
       "      <th>2</th>\n",
       "      <td>US</td>\n",
       "      <td>SJC</td>\n",
       "      <td>PHX</td>\n",
       "      <td>622</td>\n",
       "      <td>0</td>\n",
       "      <td>Sunday</td>\n",
       "      <td>2010</td>\n",
       "      <td>1</td>\n",
       "      <td>31</td>\n",
       "      <td>18</td>\n",
       "      <td>3</td>\n",
       "    </tr>\n",
       "    <tr>\n",
       "      <th>3</th>\n",
       "      <td>YV</td>\n",
       "      <td>MTJ</td>\n",
       "      <td>DEN</td>\n",
       "      <td>197</td>\n",
       "      <td>0</td>\n",
       "      <td>Tuesday</td>\n",
       "      <td>2010</td>\n",
       "      <td>1</td>\n",
       "      <td>26</td>\n",
       "      <td>16</td>\n",
       "      <td>42</td>\n",
       "    </tr>\n",
       "    <tr>\n",
       "      <th>4</th>\n",
       "      <td>US</td>\n",
       "      <td>PHL</td>\n",
       "      <td>ORD</td>\n",
       "      <td>678</td>\n",
       "      <td>0</td>\n",
       "      <td>Wednesday</td>\n",
       "      <td>2010</td>\n",
       "      <td>1</td>\n",
       "      <td>6</td>\n",
       "      <td>17</td>\n",
       "      <td>53</td>\n",
       "    </tr>\n",
       "  </tbody>\n",
       "</table>\n",
       "</div>"
      ],
      "text/plain": [
       "  UniqueCarrier Origin Dest  Distance  dep_delayed_15min Day_of_Week  Year  \\\n",
       "0            MQ    CVG  DFW       812                  1      Sunday  2010   \n",
       "1            MQ    OMA  ORD       416                  0      Friday  2010   \n",
       "2            US    SJC  PHX       622                  0      Sunday  2010   \n",
       "3            YV    MTJ  DEN       197                  0     Tuesday  2010   \n",
       "4            US    PHL  ORD       678                  0   Wednesday  2010   \n",
       "\n",
       "  Month Day Hour Minutes  \n",
       "0     1  17   17       5  \n",
       "1     1  29   17       3  \n",
       "2     1  31   18       3  \n",
       "3     1  26   16      42  \n",
       "4     1   6   17      53  "
      ]
     },
     "execution_count": 4,
     "metadata": {},
     "output_type": "execute_result"
    }
   ],
   "source": [
    "training.head()"
   ]
  },
  {
   "cell_type": "code",
   "execution_count": 6,
   "metadata": {},
   "outputs": [
    {
     "name": "stdout",
     "output_type": "stream",
     "text": [
      "(365440, 10)\n",
      "(365440,)\n",
      "(40605, 10)\n",
      "(40605,)\n"
     ]
    }
   ],
   "source": [
    "X = training.drop([\"dep_delayed_15min\"], axis=1)\n",
    "y = training[\"dep_delayed_15min\"]\n",
    "\n",
    "X_train, X_test, y_train, y_test = train_test_split(\n",
    "    X, y,\n",
    "    random_state=21,\n",
    "    test_size=0.1,\n",
    "    stratify=y)\n",
    "\n",
    "print(X_train.shape)\n",
    "print(y_train.shape)\n",
    "print(X_test.shape)\n",
    "print(y_test.shape)"
   ]
  },
  {
   "cell_type": "markdown",
   "metadata": {},
   "source": [
    "# CREATE VAR TYPES"
   ]
  },
  {
   "cell_type": "code",
   "execution_count": 7,
   "metadata": {},
   "outputs": [],
   "source": [
    "numerical_cols = list(X_train.select_dtypes(include=['int64']).columns)\n",
    "categorical_cols = list(X_train.select_dtypes(include=['object', 'category']).columns)"
   ]
  },
  {
   "cell_type": "markdown",
   "metadata": {},
   "source": [
    "# PRE PROCESSING PIPELINE"
   ]
  },
  {
   "cell_type": "code",
   "execution_count": 8,
   "metadata": {},
   "outputs": [],
   "source": [
    "numeric_transformer = Pipeline(steps=[\n",
    "    ('imputer', SimpleImputer(strategy='median')),\n",
    "    ('scaler', StandardScaler())])\n",
    "\n",
    "categorical_transformer = Pipeline(steps=[\n",
    "    ('imputer', SimpleImputer(strategy='constant', fill_value= -9999)),\n",
    "    ('catencoder', ce.ordinal.OrdinalEncoder())])\n",
    "#     ('targetencoder', ce.target_encoder.TargetEncoder(min_samples_leaf = 1, smoothing = 1))])\n",
    "#     ('countencoder', ce.count.CountEncoder(min_group_size = 10))])\n",
    "#     ('onehotencoder', OneHotEncoder(handle_unknown='ignore'))])\n",
    "\n",
    "preprocessor = ColumnTransformer(\n",
    "    transformers=[\n",
    "        ('num', numeric_transformer, numerical_cols),\n",
    "        ('cat', categorical_transformer, categorical_cols)])"
   ]
  },
  {
   "cell_type": "markdown",
   "metadata": {},
   "source": [
    "# MODEL BUILD PROTOTYPE"
   ]
  },
  {
   "cell_type": "code",
   "execution_count": 9,
   "metadata": {},
   "outputs": [],
   "source": [
    "## hyperparameter tuning for Light GBM\n",
    "\n",
    "LGBM = lgb.LGBMClassifier(boosting_type='gbdt',random_state = 99,\n",
    "                          class_weight='balanced', objective= 'binary')\n",
    "\n",
    "param_grid = { \n",
    "    'lgbmclassifier__n_estimators': [150,250],\n",
    "    'lgbmclassifier__feature_fraction': ['auto', 'sqrt', 0.7],\n",
    "    'lgbmclassifier__max_depth' : [6,7,8],\n",
    "    'lgbmclassifier__learning_rate' : [0.1, 0.01],\n",
    "    'lgbmclassifier__num_leaves' : [70,80],\n",
    "    'lgbmclassifier__min_data_in_leaf' : [20, 50, 100]\n",
    "}\n",
    "\n",
    "lgbm = Pipeline(steps=[('preprocessor', preprocessor),\n",
    "                      ('lgbmclassifier', LGBM)])"
   ]
  },
  {
   "cell_type": "code",
   "execution_count": 10,
   "metadata": {},
   "outputs": [
    {
     "name": "stdout",
     "output_type": "stream",
     "text": [
      "[LightGBM] [Warning] min_data_in_leaf is set=100, min_child_samples=20 will be ignored. Current value: min_data_in_leaf=100\n",
      "[LightGBM] [Warning] feature_fraction is set=0.7, colsample_bytree=1.0 will be ignored. Current value: feature_fraction=0.7\n"
     ]
    },
    {
     "data": {
      "text/plain": [
       "GridSearchCV(cv=3,\n",
       "             estimator=Pipeline(steps=[('preprocessor',\n",
       "                                        ColumnTransformer(transformers=[('num',\n",
       "                                                                         Pipeline(steps=[('imputer',\n",
       "                                                                                          SimpleImputer(strategy='median')),\n",
       "                                                                                         ('scaler',\n",
       "                                                                                          StandardScaler())]),\n",
       "                                                                         ['Distance']),\n",
       "                                                                        ('cat',\n",
       "                                                                         Pipeline(steps=[('imputer',\n",
       "                                                                                          SimpleImputer(fill_value=-9999,\n",
       "                                                                                                        strategy='constant')),\n",
       "                                                                                         ('catencoder',\n",
       "                                                                                          OrdinalEncoder())]),\n",
       "                                                                         ['UniqueCarrier',\n",
       "                                                                          'Origin'...\n",
       "                                        LGBMClassifier(class_weight='balanced',\n",
       "                                                       objective='binary',\n",
       "                                                       random_state=99))]),\n",
       "             n_jobs=-1,\n",
       "             param_grid={'lgbmclassifier__feature_fraction': ['auto', 'sqrt',\n",
       "                                                              0.7],\n",
       "                         'lgbmclassifier__learning_rate': [0.1, 0.01],\n",
       "                         'lgbmclassifier__max_depth': [6, 7, 8],\n",
       "                         'lgbmclassifier__min_data_in_leaf': [20, 50, 100],\n",
       "                         'lgbmclassifier__n_estimators': [150, 250],\n",
       "                         'lgbmclassifier__num_leaves': [70, 80]},\n",
       "             scoring='roc_auc')"
      ]
     },
     "execution_count": 10,
     "metadata": {},
     "output_type": "execute_result"
    }
   ],
   "source": [
    "grid_lgbm = GridSearchCV(lgbm, cv= 3, n_jobs= -1, param_grid= param_grid, scoring='roc_auc')\n",
    "grid_lgbm.fit(X_train, y_train)"
   ]
  },
  {
   "cell_type": "code",
   "execution_count": 11,
   "metadata": {},
   "outputs": [
    {
     "data": {
      "text/plain": [
       "0.7548750567774092"
      ]
     },
     "execution_count": 11,
     "metadata": {},
     "output_type": "execute_result"
    }
   ],
   "source": [
    "grid_lgbm.best_score_"
   ]
  },
  {
   "cell_type": "code",
   "execution_count": 12,
   "metadata": {},
   "outputs": [
    {
     "data": {
      "text/plain": [
       "{'lgbmclassifier__feature_fraction': 0.7,\n",
       " 'lgbmclassifier__learning_rate': 0.1,\n",
       " 'lgbmclassifier__max_depth': 8,\n",
       " 'lgbmclassifier__min_data_in_leaf': 100,\n",
       " 'lgbmclassifier__n_estimators': 250,\n",
       " 'lgbmclassifier__num_leaves': 80}"
      ]
     },
     "execution_count": 12,
     "metadata": {},
     "output_type": "execute_result"
    }
   ],
   "source": [
    "grid_lgbm.best_params_"
   ]
  },
  {
   "cell_type": "code",
   "execution_count": 13,
   "metadata": {},
   "outputs": [
    {
     "data": {
      "text/plain": [
       "0.6943605370487479"
      ]
     },
     "execution_count": 13,
     "metadata": {},
     "output_type": "execute_result"
    }
   ],
   "source": [
    "y_pred = grid_lgbm.predict(X_test)\n",
    "\n",
    "roc_auc_score(y_test,y_pred)"
   ]
  },
  {
   "cell_type": "markdown",
   "metadata": {},
   "source": [
    "# SAVE PICKLE DUMP"
   ]
  },
  {
   "cell_type": "code",
   "execution_count": 14,
   "metadata": {},
   "outputs": [],
   "source": [
    "grid_lgbm.feature_names = list(X_train.columns.values)\n",
    "pickle.dump(grid_lgbm, open(path + 'LGBM_gridCV_flights_model.sav', 'wb'))"
   ]
  },
  {
   "cell_type": "code",
   "execution_count": null,
   "metadata": {},
   "outputs": [],
   "source": [
    "############################################\n",
    "############################################"
   ]
  },
  {
   "cell_type": "markdown",
   "metadata": {},
   "source": [
    "# OPEN PICKLE DUMP"
   ]
  },
  {
   "cell_type": "code",
   "execution_count": null,
   "metadata": {},
   "outputs": [],
   "source": [
    "grid_lgbm = pickle.load(open(path + 'LGBM_flights_model.sav', 'rb'))"
   ]
  },
  {
   "cell_type": "code",
   "execution_count": null,
   "metadata": {},
   "outputs": [],
   "source": [
    "# Holdout Test"
   ]
  },
  {
   "cell_type": "code",
   "execution_count": null,
   "metadata": {},
   "outputs": [],
   "source": [
    "# Import HO data\n",
    "test_df = pd.read_csv(path + 'data/airline_delay_test.csv')\n",
    "# Preprocess DateTime features\n",
    "test_df = feat_eng_datetime(test_df)\n",
    "test_df_y = test_df.dep_delayed_15min\n",
    "test_df_x = test_df.drop(['dep_delayed_15min'], axis=1)"
   ]
  },
  {
   "cell_type": "code",
   "execution_count": null,
   "metadata": {},
   "outputs": [],
   "source": [
    "# Test on HO data\n",
    "test_pred = grid_lgbm.predict(test_df_x)\n",
    "\n",
    "roc_auc_score(test_df_y,test_pred)"
   ]
  }
 ],
 "metadata": {
  "kernelspec": {
   "display_name": "Python 3",
   "language": "python",
   "name": "python3"
  },
  "language_info": {
   "codemirror_mode": {
    "name": "ipython",
    "version": 3
   },
   "file_extension": ".py",
   "mimetype": "text/x-python",
   "name": "python",
   "nbconvert_exporter": "python",
   "pygments_lexer": "ipython3",
   "version": "3.8.3"
  }
 },
 "nbformat": 4,
 "nbformat_minor": 4
}
