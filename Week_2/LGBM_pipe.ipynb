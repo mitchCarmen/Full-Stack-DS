{
 "cells": [
  {
   "cell_type": "markdown",
   "metadata": {},
   "source": [
    "# IMPORT LIBRARIES"
   ]
  },
  {
   "cell_type": "code",
   "execution_count": 1,
   "metadata": {},
   "outputs": [],
   "source": [
    "import numpy as np\n",
    "import pandas as pd\n",
    "\n",
    "from date_time_preprocessor import *\n",
    "\n",
    "from sklearn.base import TransformerMixin, BaseEstimator\n",
    "from sklearn.model_selection import train_test_split, GridSearchCV\n",
    "from sklearn.preprocessing import OneHotEncoder, StandardScaler\n",
    "from sklearn.pipeline import Pipeline\n",
    "from sklearn.compose import ColumnTransformer\n",
    "from sklearn.impute import SimpleImputer\n",
    "from sklearn.metrics import log_loss, classification_report, roc_auc_score\n",
    "import category_encoders as ce\n",
    "import lightgbm as lgb\n",
    "\n",
    "import pickle\n",
    "import os"
   ]
  },
  {
   "cell_type": "code",
   "execution_count": 2,
   "metadata": {},
   "outputs": [
    {
     "name": "stdout",
     "output_type": "stream",
     "text": [
      "Package                            Version\n",
      "---------------------------------- ----------------------\n",
      "alabaster                          0.7.12\n",
      "anaconda-client                    1.7.2\n",
      "anaconda-navigator                 1.9.12\n",
      "anaconda-project                   0.8.3\n",
      "applaunchservices                  0.2.1\n",
      "appnope                            0.1.0\n",
      "appscript                          1.1.1\n",
      "argcomplete                        1.11.1\n",
      "argh                               0.26.2\n",
      "asn1crypto                         1.3.0\n",
      "astroid                            2.4.2\n",
      "astropy                            4.0.1.post1\n",
      "atomicwrites                       1.4.0\n",
      "attrs                              19.3.0\n",
      "autopep8                           1.5.3\n",
      "Babel                              2.8.0\n",
      "backcall                           0.2.0\n",
      "backports.functools-lru-cache      1.6.1\n",
      "backports.shutil-get-terminal-size 1.0.0\n",
      "backports.tempfile                 1.0\n",
      "backports.weakref                  1.0.post1\n",
      "beautifulsoup4                     4.9.1\n",
      "bitarray                           1.4.0\n",
      "bkcharts                           0.2\n",
      "bleach                             3.1.5\n",
      "bokeh                              2.1.1\n",
      "boto                               2.49.0\n",
      "boto3                              1.11.4\n",
      "botocore                           1.14.4\n",
      "Bottleneck                         1.3.2\n",
      "brotlipy                           0.7.0\n",
      "category-encoders                  2.2.2\n",
      "certifi                            2020.6.20\n",
      "cffi                               1.14.0\n",
      "chardet                            3.0.4\n",
      "click                              7.1.2\n",
      "cloudpickle                        1.5.0\n",
      "clyent                             1.2.2\n",
      "colorama                           0.4.3\n",
      "conda                              4.8.4\n",
      "conda-build                        3.18.11\n",
      "conda-package-handling             1.7.0+0.g7c4a471.dirty\n",
      "conda-verify                       3.4.2\n",
      "contextlib2                        0.6.0.post1\n",
      "cryptography                       2.9.2\n",
      "cycler                             0.10.0\n",
      "Cython                             0.29.21\n",
      "cytoolz                            0.10.1\n",
      "dask                               2.20.0\n",
      "datarobot                          2.21.3\n",
      "datarobot-drum                     1.3.0\n",
      "datarobot-mlops                    6.2.4\n",
      "decorator                          4.4.2\n",
      "defusedxml                         0.6.0\n",
      "deprecation                        2.1.0\n",
      "diff-match-patch                   20200713\n",
      "distributed                        2.20.0\n",
      "docker                             4.3.1\n",
      "docutils                           0.15.2\n",
      "entrypoints                        0.3\n",
      "et-xmlfile                         1.0.1\n",
      "fastcache                          1.1.0\n",
      "filelock                           3.0.12\n",
      "flake8                             3.8.3\n",
      "Flask                              1.1.2\n",
      "Flask-Cors                         3.0.9\n",
      "fsspec                             0.7.4\n",
      "future                             0.18.2\n",
      "gevent                             20.6.2\n",
      "glob2                              0.7\n",
      "gmpy2                              2.0.8\n",
      "greenlet                           0.4.16\n",
      "h5py                               2.10.0\n",
      "HeapDict                           1.0.1\n",
      "html5lib                           1.1\n",
      "idna                               2.10\n",
      "imageio                            2.9.0\n",
      "imagesize                          1.2.0\n",
      "importlib-metadata                 1.7.0\n",
      "inflection                         0.5.1\n",
      "intervaltree                       3.0.2\n",
      "ipykernel                          5.3.2\n",
      "ipython                            7.16.1\n",
      "ipython-genutils                   0.2.0\n",
      "ipywidgets                         7.5.1\n",
      "isort                              4.3.21\n",
      "itsdangerous                       1.1.0\n",
      "jdcal                              1.4.1\n",
      "jedi                               0.17.1\n",
      "Jinja2                             2.11.2\n",
      "jmespath                           0.10.0\n",
      "joblib                             0.16.0\n",
      "json5                              0.9.5\n",
      "jsonschema                         3.2.0\n",
      "jupyter                            1.0.0\n",
      "jupyter-client                     6.1.6\n",
      "jupyter-console                    6.1.0\n",
      "jupyter-core                       4.6.3\n",
      "jupyterlab                         2.1.5\n",
      "jupyterlab-server                  1.2.0\n",
      "keyring                            21.2.1\n",
      "kiwisolver                         1.2.0\n",
      "lazy-object-proxy                  1.4.3\n",
      "libarchive-c                       2.9\n",
      "lightgbm                           3.1.1\n",
      "llvmlite                           0.33.0+1.g022ab0f\n",
      "locket                             0.2.0\n",
      "lxml                               4.5.2\n",
      "MarkupSafe                         1.1.1\n",
      "matplotlib                         3.2.2\n",
      "mccabe                             0.6.1\n",
      "memory-profiler                    0.57.0\n",
      "mistune                            0.8.4\n",
      "mkl-fft                            1.1.0\n",
      "mkl-random                         1.1.1\n",
      "mkl-service                        2.3.0\n",
      "mlpiper                            2.3.1.post1+dr\n",
      "mock                               4.0.2\n",
      "more-itertools                     8.4.0\n",
      "mpmath                             1.1.0\n",
      "msgpack                            1.0.0\n",
      "multipledispatch                   0.6.0\n",
      "multitasking                       0.0.9\n",
      "navigator-updater                  0.2.1\n",
      "nbconvert                          5.6.1\n",
      "nbformat                           5.0.7\n",
      "networkx                           2.4\n",
      "nltk                               3.5\n",
      "nose                               1.3.7\n",
      "notebook                           6.0.3\n",
      "numba                              0.50.1\n",
      "numexpr                            2.7.1\n",
      "numpy                              1.19.0\n",
      "numpydoc                           1.1.0\n",
      "olefile                            0.46\n",
      "openpyxl                           3.0.4\n",
      "packaging                          20.4\n",
      "pandas                             1.1.0\n",
      "pandocfilters                      1.4.2\n",
      "parso                              0.7.0\n",
      "partd                              1.1.0\n",
      "path                               13.1.0\n",
      "pathlib2                           2.3.5\n",
      "pathtools                          0.1.2\n",
      "patsy                              0.5.1\n",
      "pep8                               1.7.1\n",
      "pexpect                            4.8.0\n",
      "pickleshare                        0.7.5\n",
      "pika                               0.13.1\n",
      "Pillow                             7.2.0\n",
      "pip                                20.1.1\n",
      "pkginfo                            1.5.0.1\n",
      "pluggy                             0.13.1\n",
      "ply                                3.11\n",
      "progress                           1.5\n",
      "prometheus-client                  0.8.0\n",
      "prompt-toolkit                     3.0.5\n",
      "psutil                             5.7.0\n",
      "ptyprocess                         0.6.0\n",
      "py                                 1.9.0\n",
      "py4j                               0.10.9\n",
      "pycodestyle                        2.6.0\n",
      "pycosat                            0.6.3\n",
      "pycparser                          2.20\n",
      "pycurl                             7.43.0.5\n",
      "pydocstyle                         5.0.2\n",
      "pyflakes                           2.2.0\n",
      "Pygments                           2.6.1\n",
      "pylint                             2.5.3\n",
      "pyodbc                             4.0.0-unsupported\n",
      "pyOpenSSL                          19.1.0\n",
      "pyparsing                          2.4.7\n",
      "pyrsistent                         0.16.0\n",
      "PySocks                            1.7.1\n",
      "pytest                             5.4.3\n",
      "python-dateutil                    2.8.1\n",
      "python-jsonrpc-server              0.3.4\n",
      "python-language-server             0.34.1\n",
      "pytz                               2020.1\n",
      "PyWavelets                         1.1.1\n",
      "PyYAML                             5.3.1\n",
      "pyzmq                              19.0.1\n",
      "QDarkStyle                         2.8.1\n",
      "QtAwesome                          0.7.2\n",
      "qtconsole                          4.7.5\n",
      "QtPy                               1.9.0\n",
      "Quandl                             3.5.3\n",
      "regex                              2020.6.8\n",
      "requests                           2.24.0\n",
      "requests-toolbelt                  0.9.1\n",
      "rope                               0.17.0\n",
      "Rtree                              0.9.4\n",
      "ruamel-yaml                        0.15.87\n",
      "ruamel.yaml                        0.16.12\n",
      "ruamel.yaml.clib                   0.2.2\n",
      "s3transfer                         0.3.3\n",
      "sagemaker-scikit-learn-extension   1.1.0\n",
      "scikit-image                       0.16.2\n",
      "scikit-learn                       0.23.1\n",
      "scipy                              1.5.0\n",
      "seaborn                            0.10.1\n",
      "Send2Trash                         1.5.0\n",
      "setuptools                         49.2.0.post20200714\n",
      "simplegeneric                      0.8.1\n",
      "singledispatch                     3.4.0.3\n",
      "six                                1.15.0\n",
      "snowballstemmer                    2.0.0\n",
      "sortedcollections                  1.2.1\n",
      "sortedcontainers                   2.2.2\n",
      "soupsieve                          2.0.1\n",
      "Sphinx                             3.1.2\n",
      "sphinxcontrib-applehelp            1.0.2\n",
      "sphinxcontrib-devhelp              1.0.2\n",
      "sphinxcontrib-htmlhelp             1.0.3\n",
      "sphinxcontrib-jsmath               1.0.1\n",
      "sphinxcontrib-qthelp               1.0.3\n",
      "sphinxcontrib-serializinghtml      1.1.4\n",
      "sphinxcontrib-websupport           1.2.3\n",
      "spyder                             4.1.4\n",
      "spyder-kernels                     1.9.2\n",
      "SQLAlchemy                         1.3.18\n",
      "statsmodels                        0.11.1\n",
      "strictyaml                         1.0.6\n",
      "sympy                              1.6.1\n",
      "tables                             3.6.1\n",
      "tblib                              1.6.0\n",
      "termcolor                          1.1.0.post1+dr\n",
      "terminado                          0.8.3\n",
      "testpath                           0.4.4\n",
      "texttable                          1.6.3\n",
      "threadpoolctl                      2.1.0\n",
      "toml                               0.10.1\n",
      "toolz                              0.10.0\n",
      "tornado                            6.0.4\n",
      "tqdm                               4.47.0\n",
      "trafaret                           1.2.0.post1+dr\n",
      "traitlets                          4.3.3\n",
      "typing-extensions                  3.7.4.2\n",
      "ujson                              1.35\n",
      "unicodecsv                         0.14.1\n",
      "urllib3                            1.25.11\n",
      "uWSGI                              2.0.19.1\n",
      "watchdog                           0.10.3\n",
      "wcwidth                            0.2.5\n",
      "webencodings                       0.5.1\n",
      "websocket-client                   0.57.0\n",
      "Werkzeug                           1.0.1\n",
      "wheel                              0.34.2\n",
      "widgetsnbextension                 3.5.1\n",
      "wrapt                              1.11.2\n",
      "wurlitzer                          2.0.1\n",
      "xlrd                               1.2.0\n",
      "XlsxWriter                         1.2.9\n",
      "xlwings                            0.19.5\n",
      "xlwt                               1.3.0\n",
      "xmltodict                          0.12.0\n",
      "yapf                               0.30.0\n",
      "yfinance                           0.1.55\n",
      "zict                               2.0.0\n",
      "zipp                               3.1.0\n",
      "zope.event                         4.4\n",
      "zope.interface                     4.7.1\n"
     ]
    }
   ],
   "source": [
    "!pip list"
   ]
  },
  {
   "cell_type": "markdown",
   "metadata": {},
   "source": [
    "# IMPORT DATA"
   ]
  },
  {
   "cell_type": "code",
   "execution_count": 3,
   "metadata": {},
   "outputs": [
    {
     "name": "stdout",
     "output_type": "stream",
     "text": [
      "(406045, 8)\n"
     ]
    }
   ],
   "source": [
    "path = '/Users/mitchell.carmen/Documents/FullStack_DS/'\n",
    "df_raw = pd.read_csv(path + 'data/airline_delay_train.csv')\n",
    "print(df_raw.shape)"
   ]
  },
  {
   "cell_type": "code",
   "execution_count": 4,
   "metadata": {},
   "outputs": [
    {
     "name": "stdout",
     "output_type": "stream",
     "text": [
      "Running feature engineering\n",
      "(406045, 13)\n"
     ]
    }
   ],
   "source": [
    "# Applying date_time_preprocessor.py\n",
    "training = feat_eng_datetime(df_raw)\n",
    "print(training.shape)"
   ]
  },
  {
   "cell_type": "code",
   "execution_count": 5,
   "metadata": {},
   "outputs": [
    {
     "data": {
      "text/html": [
       "<div>\n",
       "<style scoped>\n",
       "    .dataframe tbody tr th:only-of-type {\n",
       "        vertical-align: middle;\n",
       "    }\n",
       "\n",
       "    .dataframe tbody tr th {\n",
       "        vertical-align: top;\n",
       "    }\n",
       "\n",
       "    .dataframe thead th {\n",
       "        text-align: right;\n",
       "    }\n",
       "</style>\n",
       "<table border=\"1\" class=\"dataframe\">\n",
       "  <thead>\n",
       "    <tr style=\"text-align: right;\">\n",
       "      <th></th>\n",
       "      <th>FlightDate</th>\n",
       "      <th>DepTime</th>\n",
       "      <th>UniqueCarrier</th>\n",
       "      <th>Origin</th>\n",
       "      <th>Dest</th>\n",
       "      <th>Distance</th>\n",
       "      <th>dep_delayed_15min</th>\n",
       "      <th>Day_of_Week</th>\n",
       "      <th>Year</th>\n",
       "      <th>Month</th>\n",
       "      <th>Day</th>\n",
       "      <th>Hour</th>\n",
       "      <th>Minutes</th>\n",
       "    </tr>\n",
       "  </thead>\n",
       "  <tbody>\n",
       "    <tr>\n",
       "      <th>0</th>\n",
       "      <td>2010-01-17</td>\n",
       "      <td>17:05:00</td>\n",
       "      <td>MQ</td>\n",
       "      <td>CVG</td>\n",
       "      <td>DFW</td>\n",
       "      <td>812</td>\n",
       "      <td>1</td>\n",
       "      <td>Sunday</td>\n",
       "      <td>2010</td>\n",
       "      <td>1</td>\n",
       "      <td>17</td>\n",
       "      <td>17</td>\n",
       "      <td>5</td>\n",
       "    </tr>\n",
       "    <tr>\n",
       "      <th>1</th>\n",
       "      <td>2010-01-29</td>\n",
       "      <td>17:03:00</td>\n",
       "      <td>MQ</td>\n",
       "      <td>OMA</td>\n",
       "      <td>ORD</td>\n",
       "      <td>416</td>\n",
       "      <td>0</td>\n",
       "      <td>Friday</td>\n",
       "      <td>2010</td>\n",
       "      <td>1</td>\n",
       "      <td>29</td>\n",
       "      <td>17</td>\n",
       "      <td>3</td>\n",
       "    </tr>\n",
       "    <tr>\n",
       "      <th>2</th>\n",
       "      <td>2010-01-31</td>\n",
       "      <td>18:03:00</td>\n",
       "      <td>US</td>\n",
       "      <td>SJC</td>\n",
       "      <td>PHX</td>\n",
       "      <td>622</td>\n",
       "      <td>0</td>\n",
       "      <td>Sunday</td>\n",
       "      <td>2010</td>\n",
       "      <td>1</td>\n",
       "      <td>31</td>\n",
       "      <td>18</td>\n",
       "      <td>3</td>\n",
       "    </tr>\n",
       "    <tr>\n",
       "      <th>3</th>\n",
       "      <td>2010-01-26</td>\n",
       "      <td>16:42:00</td>\n",
       "      <td>YV</td>\n",
       "      <td>MTJ</td>\n",
       "      <td>DEN</td>\n",
       "      <td>197</td>\n",
       "      <td>0</td>\n",
       "      <td>Tuesday</td>\n",
       "      <td>2010</td>\n",
       "      <td>1</td>\n",
       "      <td>26</td>\n",
       "      <td>16</td>\n",
       "      <td>42</td>\n",
       "    </tr>\n",
       "    <tr>\n",
       "      <th>4</th>\n",
       "      <td>2010-01-06</td>\n",
       "      <td>17:53:00</td>\n",
       "      <td>US</td>\n",
       "      <td>PHL</td>\n",
       "      <td>ORD</td>\n",
       "      <td>678</td>\n",
       "      <td>0</td>\n",
       "      <td>Wednesday</td>\n",
       "      <td>2010</td>\n",
       "      <td>1</td>\n",
       "      <td>6</td>\n",
       "      <td>17</td>\n",
       "      <td>53</td>\n",
       "    </tr>\n",
       "  </tbody>\n",
       "</table>\n",
       "</div>"
      ],
      "text/plain": [
       "  FlightDate   DepTime UniqueCarrier Origin Dest  Distance  dep_delayed_15min  \\\n",
       "0 2010-01-17  17:05:00            MQ    CVG  DFW       812                  1   \n",
       "1 2010-01-29  17:03:00            MQ    OMA  ORD       416                  0   \n",
       "2 2010-01-31  18:03:00            US    SJC  PHX       622                  0   \n",
       "3 2010-01-26  16:42:00            YV    MTJ  DEN       197                  0   \n",
       "4 2010-01-06  17:53:00            US    PHL  ORD       678                  0   \n",
       "\n",
       "  Day_of_Week  Year Month Day Hour Minutes  \n",
       "0      Sunday  2010     1  17   17       5  \n",
       "1      Friday  2010     1  29   17       3  \n",
       "2      Sunday  2010     1  31   18       3  \n",
       "3     Tuesday  2010     1  26   16      42  \n",
       "4   Wednesday  2010     1   6   17      53  "
      ]
     },
     "execution_count": 5,
     "metadata": {},
     "output_type": "execute_result"
    }
   ],
   "source": [
    "training.head()"
   ]
  },
  {
   "cell_type": "code",
   "execution_count": 6,
   "metadata": {},
   "outputs": [],
   "source": [
    "X = training.drop([\"dep_delayed_15min\"], axis=1)\n",
    "y = training[\"dep_delayed_15min\"]\n",
    "\n",
    "X_train, X_test, y_train, y_test = train_test_split(\n",
    "    X, y,\n",
    "    random_state=21,\n",
    "    test_size=0.1,\n",
    "    stratify=y)\n",
    "\n",
    "# print(X_train.shape)\n",
    "# print(y_train.shape)\n",
    "# print(X_test.shape)\n",
    "# print(y_test.shape)"
   ]
  },
  {
   "cell_type": "markdown",
   "metadata": {},
   "source": [
    "# CREATE VAR TYPES"
   ]
  },
  {
   "cell_type": "code",
   "execution_count": 7,
   "metadata": {},
   "outputs": [],
   "source": [
    "numerical_cols = list(X_train.select_dtypes(include=['int64']).columns)\n",
    "categorical_cols = list(X_train.select_dtypes(include=['object', 'category']).columns)"
   ]
  },
  {
   "cell_type": "markdown",
   "metadata": {},
   "source": [
    "# PRE PROCESSING PIPELINE"
   ]
  },
  {
   "cell_type": "code",
   "execution_count": 8,
   "metadata": {},
   "outputs": [],
   "source": [
    "numeric_transformer = Pipeline(steps=[\n",
    "    ('imputer', SimpleImputer(strategy='median')),\n",
    "    ('scaler', StandardScaler())])\n",
    "\n",
    "categorical_transformer = Pipeline(steps=[\n",
    "    ('imputer', SimpleImputer(strategy='constant', fill_value= -9999)),\n",
    "    ('catencoder', ce.ordinal.OrdinalEncoder())])\n",
    "#     ('targetencoder', ce.target_encoder.TargetEncoder(min_samples_leaf = 1, smoothing = 1))])\n",
    "#     ('countencoder', ce.count.CountEncoder(min_group_size = 10))])\n",
    "#     ('onehotencoder', OneHotEncoder(handle_unknown='ignore'))])\n",
    "\n",
    "preprocessor = ColumnTransformer(\n",
    "    transformers=[\n",
    "        ('num', numeric_transformer, numerical_cols),\n",
    "        ('cat', categorical_transformer, categorical_cols)])"
   ]
  },
  {
   "cell_type": "markdown",
   "metadata": {},
   "source": [
    "# MODEL BUILD PROTOTYPE"
   ]
  },
  {
   "cell_type": "code",
   "execution_count": 9,
   "metadata": {},
   "outputs": [],
   "source": [
    "## hyperparameter tuning for Light GBM\n",
    "\n",
    "LGBM = lgb.LGBMClassifier(boosting_type='gbdt',random_state = 99,\n",
    "                          class_weight='balanced', objective= 'binary')\n",
    "\n",
    "param_grid = { \n",
    "    'lgbmclassifier__n_estimators': [150,250],\n",
    "    'lgbmclassifier__feature_fraction': ['auto', 'sqrt', 0.7],\n",
    "    'lgbmclassifier__max_depth' : [6,7,8],\n",
    "    'lgbmclassifier__learning_rate' : [0.1, 0.01],\n",
    "    'lgbmclassifier__num_leaves' : [70,80],\n",
    "    'lgbmclassifier__min_data_in_leaf' : [20, 50, 100]\n",
    "}\n",
    "\n",
    "lgbm = Pipeline(steps=[('preprocessor', preprocessor),\n",
    "                      ('lgbmclassifier', LGBM)])"
   ]
  },
  {
   "cell_type": "code",
   "execution_count": 10,
   "metadata": {},
   "outputs": [
    {
     "name": "stdout",
     "output_type": "stream",
     "text": [
      "[LightGBM] [Warning] min_data_in_leaf is set=50, min_child_samples=20 will be ignored. Current value: min_data_in_leaf=50\n",
      "[LightGBM] [Warning] feature_fraction is set=0.7, colsample_bytree=1.0 will be ignored. Current value: feature_fraction=0.7\n"
     ]
    },
    {
     "data": {
      "text/plain": [
       "GridSearchCV(cv=3,\n",
       "             estimator=Pipeline(steps=[('preprocessor',\n",
       "                                        ColumnTransformer(transformers=[('num',\n",
       "                                                                         Pipeline(steps=[('imputer',\n",
       "                                                                                          SimpleImputer(strategy='median')),\n",
       "                                                                                         ('scaler',\n",
       "                                                                                          StandardScaler())]),\n",
       "                                                                         ['Distance']),\n",
       "                                                                        ('cat',\n",
       "                                                                         Pipeline(steps=[('imputer',\n",
       "                                                                                          SimpleImputer(fill_value=-9999,\n",
       "                                                                                                        strategy='constant')),\n",
       "                                                                                         ('catencoder',\n",
       "                                                                                          OrdinalEncoder())]),\n",
       "                                                                         ['DepTime',\n",
       "                                                                          'UniqueCarrier...\n",
       "                                        LGBMClassifier(class_weight='balanced',\n",
       "                                                       objective='binary',\n",
       "                                                       random_state=99))]),\n",
       "             n_jobs=-1,\n",
       "             param_grid={'lgbmclassifier__feature_fraction': ['auto', 'sqrt',\n",
       "                                                              0.7],\n",
       "                         'lgbmclassifier__learning_rate': [0.1, 0.01],\n",
       "                         'lgbmclassifier__max_depth': [6, 7, 8],\n",
       "                         'lgbmclassifier__min_data_in_leaf': [20, 50, 100],\n",
       "                         'lgbmclassifier__n_estimators': [150, 250],\n",
       "                         'lgbmclassifier__num_leaves': [70, 80]},\n",
       "             scoring='roc_auc')"
      ]
     },
     "execution_count": 10,
     "metadata": {},
     "output_type": "execute_result"
    }
   ],
   "source": [
    "grid_lgbm = GridSearchCV(lgbm, cv= 3, n_jobs= -1, param_grid= param_grid, scoring='roc_auc')\n",
    "grid_lgbm.fit(X_train, y_train)"
   ]
  },
  {
   "cell_type": "code",
   "execution_count": 11,
   "metadata": {},
   "outputs": [
    {
     "data": {
      "text/plain": [
       "0.7522433997148169"
      ]
     },
     "execution_count": 11,
     "metadata": {},
     "output_type": "execute_result"
    }
   ],
   "source": [
    "grid_lgbm.best_score_"
   ]
  },
  {
   "cell_type": "code",
   "execution_count": 12,
   "metadata": {},
   "outputs": [
    {
     "data": {
      "text/plain": [
       "{'lgbmclassifier__feature_fraction': 0.7,\n",
       " 'lgbmclassifier__learning_rate': 0.1,\n",
       " 'lgbmclassifier__max_depth': 8,\n",
       " 'lgbmclassifier__min_data_in_leaf': 50,\n",
       " 'lgbmclassifier__n_estimators': 250,\n",
       " 'lgbmclassifier__num_leaves': 80}"
      ]
     },
     "execution_count": 12,
     "metadata": {},
     "output_type": "execute_result"
    }
   ],
   "source": [
    "grid_lgbm.best_params_"
   ]
  },
  {
   "cell_type": "code",
   "execution_count": 13,
   "metadata": {},
   "outputs": [
    {
     "data": {
      "text/plain": [
       "0.6924264371631438"
      ]
     },
     "execution_count": 13,
     "metadata": {},
     "output_type": "execute_result"
    }
   ],
   "source": [
    "y_pred = grid_lgbm.predict(X_test)\n",
    "\n",
    "roc_auc_score(y_test,y_pred)"
   ]
  },
  {
   "cell_type": "markdown",
   "metadata": {},
   "source": [
    "# SAVE PICKLE DUMP"
   ]
  },
  {
   "cell_type": "code",
   "execution_count": 14,
   "metadata": {},
   "outputs": [],
   "source": [
    "grid_lgbm.feature_names = list(X_train.columns.values)\n",
    "pickle.dump(grid_lgbm, open(path + 'Prod_Assets/LGBM_gridCV_flights_model.pkl', 'wb'))"
   ]
  },
  {
   "cell_type": "code",
   "execution_count": 15,
   "metadata": {},
   "outputs": [],
   "source": [
    "############################################\n",
    "############################################"
   ]
  },
  {
   "cell_type": "markdown",
   "metadata": {},
   "source": [
    "# OPEN PICKLE DUMP"
   ]
  },
  {
   "cell_type": "code",
   "execution_count": 16,
   "metadata": {},
   "outputs": [],
   "source": [
    "grid_lgbm = pickle.load(open(path + 'Prod_Assets/LGBM_gridCV_flights_model.pkl', 'rb'))"
   ]
  },
  {
   "cell_type": "code",
   "execution_count": 17,
   "metadata": {},
   "outputs": [],
   "source": [
    "# Holdout Test"
   ]
  },
  {
   "cell_type": "code",
   "execution_count": 18,
   "metadata": {},
   "outputs": [
    {
     "name": "stdout",
     "output_type": "stream",
     "text": [
      "Running feature engineering\n"
     ]
    }
   ],
   "source": [
    "# Import HO data\n",
    "test_df = pd.read_csv(path + 'data/airline_delay_test.csv')\n",
    "# Preprocess DateTime features\n",
    "test_df = feat_eng_datetime(test_df)\n",
    "test_df_y = test_df.dep_delayed_15min\n",
    "test_df_x = test_df.drop(['dep_delayed_15min'], axis=1)"
   ]
  },
  {
   "cell_type": "code",
   "execution_count": 19,
   "metadata": {},
   "outputs": [
    {
     "data": {
      "text/html": [
       "<div>\n",
       "<style scoped>\n",
       "    .dataframe tbody tr th:only-of-type {\n",
       "        vertical-align: middle;\n",
       "    }\n",
       "\n",
       "    .dataframe tbody tr th {\n",
       "        vertical-align: top;\n",
       "    }\n",
       "\n",
       "    .dataframe thead th {\n",
       "        text-align: right;\n",
       "    }\n",
       "</style>\n",
       "<table border=\"1\" class=\"dataframe\">\n",
       "  <thead>\n",
       "    <tr style=\"text-align: right;\">\n",
       "      <th></th>\n",
       "      <th>FlightDate</th>\n",
       "      <th>DepTime</th>\n",
       "      <th>UniqueCarrier</th>\n",
       "      <th>Origin</th>\n",
       "      <th>Dest</th>\n",
       "      <th>Distance</th>\n",
       "      <th>Day_of_Week</th>\n",
       "      <th>Year</th>\n",
       "      <th>Month</th>\n",
       "      <th>Day</th>\n",
       "      <th>Hour</th>\n",
       "      <th>Minutes</th>\n",
       "    </tr>\n",
       "  </thead>\n",
       "  <tbody>\n",
       "    <tr>\n",
       "      <th>0</th>\n",
       "      <td>2010-01-11</td>\n",
       "      <td>19:45:00</td>\n",
       "      <td>OH</td>\n",
       "      <td>DTW</td>\n",
       "      <td>MDW</td>\n",
       "      <td>229</td>\n",
       "      <td>Monday</td>\n",
       "      <td>2010</td>\n",
       "      <td>1</td>\n",
       "      <td>11</td>\n",
       "      <td>19</td>\n",
       "      <td>45</td>\n",
       "    </tr>\n",
       "    <tr>\n",
       "      <th>1</th>\n",
       "      <td>2010-01-12</td>\n",
       "      <td>16:59:00</td>\n",
       "      <td>WN</td>\n",
       "      <td>SAN</td>\n",
       "      <td>PHX</td>\n",
       "      <td>304</td>\n",
       "      <td>Tuesday</td>\n",
       "      <td>2010</td>\n",
       "      <td>1</td>\n",
       "      <td>12</td>\n",
       "      <td>16</td>\n",
       "      <td>59</td>\n",
       "    </tr>\n",
       "    <tr>\n",
       "      <th>2</th>\n",
       "      <td>2010-01-21</td>\n",
       "      <td>18:52:00</td>\n",
       "      <td>YV</td>\n",
       "      <td>GJT</td>\n",
       "      <td>DEN</td>\n",
       "      <td>212</td>\n",
       "      <td>Thursday</td>\n",
       "      <td>2010</td>\n",
       "      <td>1</td>\n",
       "      <td>21</td>\n",
       "      <td>18</td>\n",
       "      <td>52</td>\n",
       "    </tr>\n",
       "    <tr>\n",
       "      <th>3</th>\n",
       "      <td>2010-01-08</td>\n",
       "      <td>11:02:00</td>\n",
       "      <td>WN</td>\n",
       "      <td>ONT</td>\n",
       "      <td>PHX</td>\n",
       "      <td>325</td>\n",
       "      <td>Friday</td>\n",
       "      <td>2010</td>\n",
       "      <td>1</td>\n",
       "      <td>8</td>\n",
       "      <td>11</td>\n",
       "      <td>2</td>\n",
       "    </tr>\n",
       "    <tr>\n",
       "      <th>4</th>\n",
       "      <td>2010-01-22</td>\n",
       "      <td>23:03:00</td>\n",
       "      <td>US</td>\n",
       "      <td>PHL</td>\n",
       "      <td>MSY</td>\n",
       "      <td>1088</td>\n",
       "      <td>Friday</td>\n",
       "      <td>2010</td>\n",
       "      <td>1</td>\n",
       "      <td>22</td>\n",
       "      <td>23</td>\n",
       "      <td>3</td>\n",
       "    </tr>\n",
       "  </tbody>\n",
       "</table>\n",
       "</div>"
      ],
      "text/plain": [
       "  FlightDate   DepTime UniqueCarrier Origin Dest  Distance Day_of_Week  Year  \\\n",
       "0 2010-01-11  19:45:00            OH    DTW  MDW       229      Monday  2010   \n",
       "1 2010-01-12  16:59:00            WN    SAN  PHX       304     Tuesday  2010   \n",
       "2 2010-01-21  18:52:00            YV    GJT  DEN       212    Thursday  2010   \n",
       "3 2010-01-08  11:02:00            WN    ONT  PHX       325      Friday  2010   \n",
       "4 2010-01-22  23:03:00            US    PHL  MSY      1088      Friday  2010   \n",
       "\n",
       "  Month Day Hour Minutes  \n",
       "0     1  11   19      45  \n",
       "1     1  12   16      59  \n",
       "2     1  21   18      52  \n",
       "3     1   8   11       2  \n",
       "4     1  22   23       3  "
      ]
     },
     "execution_count": 19,
     "metadata": {},
     "output_type": "execute_result"
    }
   ],
   "source": [
    "test_df_x.head()"
   ]
  },
  {
   "cell_type": "code",
   "execution_count": 20,
   "metadata": {},
   "outputs": [
    {
     "data": {
      "text/plain": [
       "0.6890719199601335"
      ]
     },
     "execution_count": 20,
     "metadata": {},
     "output_type": "execute_result"
    }
   ],
   "source": [
    "# Test on HO data\n",
    "test_pred = grid_lgbm.predict(test_df_x)\n",
    "\n",
    "roc_auc_score(test_df_y,test_pred)"
   ]
  },
  {
   "cell_type": "code",
   "execution_count": null,
   "metadata": {},
   "outputs": [],
   "source": []
  }
 ],
 "metadata": {
  "kernelspec": {
   "display_name": "Python 3",
   "language": "python",
   "name": "python3"
  },
  "language_info": {
   "codemirror_mode": {
    "name": "ipython",
    "version": 3
   },
   "file_extension": ".py",
   "mimetype": "text/x-python",
   "name": "python",
   "nbconvert_exporter": "python",
   "pygments_lexer": "ipython3",
   "version": "3.8.3"
  }
 },
 "nbformat": 4,
 "nbformat_minor": 4
}
