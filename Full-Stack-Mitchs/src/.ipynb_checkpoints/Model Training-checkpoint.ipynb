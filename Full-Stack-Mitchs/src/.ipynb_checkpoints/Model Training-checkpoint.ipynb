{
 "cells": [
  {
   "cell_type": "markdown",
   "metadata": {},
   "source": [
    "#### Import Libraries"
   ]
  },
  {
   "cell_type": "code",
   "execution_count": 2,
   "metadata": {},
   "outputs": [],
   "source": [
    "import pandas as pd\n",
    "from sklearn.ensemble import RandomForestClassifier\n",
    "import pickle\n",
    "\n",
    "from sklearn.pipeline import Pipeline\n",
    "from sklearn.compose import ColumnTransformer\n",
    "from sklearn.preprocessing import OneHotEncoder\n",
    "from sklearn.impute import SimpleImputer"
   ]
  },
  {
   "cell_type": "markdown",
   "metadata": {},
   "source": [
    "#### Import Data"
   ]
  },
  {
   "cell_type": "code",
   "execution_count": 3,
   "metadata": {},
   "outputs": [
    {
     "output_type": "execute_result",
     "data": {
      "text/plain": [
       "   FlightDate DepTime UniqueCarrier Origin Dest  Distance  dep_delayed_15min\n",
       "0  2010-01-09   14:25            9E    ATL  AUS     813.0                1.0\n",
       "1  2010-01-16   12:28            9E    ATL  AUS     813.0                1.0\n",
       "2  2010-01-23   10:53            9E    ATL  AUS     813.0                0.0\n",
       "3  2010-01-30   10:47            9E    ATL  AUS     813.0                0.0\n",
       "4  2010-01-05   17:53            9E    ATL  RDU     356.0                0.0"
      ],
      "text/html": "<div>\n<style scoped>\n    .dataframe tbody tr th:only-of-type {\n        vertical-align: middle;\n    }\n\n    .dataframe tbody tr th {\n        vertical-align: top;\n    }\n\n    .dataframe thead th {\n        text-align: right;\n    }\n</style>\n<table border=\"1\" class=\"dataframe\">\n  <thead>\n    <tr style=\"text-align: right;\">\n      <th></th>\n      <th>FlightDate</th>\n      <th>DepTime</th>\n      <th>UniqueCarrier</th>\n      <th>Origin</th>\n      <th>Dest</th>\n      <th>Distance</th>\n      <th>dep_delayed_15min</th>\n    </tr>\n  </thead>\n  <tbody>\n    <tr>\n      <th>0</th>\n      <td>2010-01-09</td>\n      <td>14:25</td>\n      <td>9E</td>\n      <td>ATL</td>\n      <td>AUS</td>\n      <td>813.0</td>\n      <td>1.0</td>\n    </tr>\n    <tr>\n      <th>1</th>\n      <td>2010-01-16</td>\n      <td>12:28</td>\n      <td>9E</td>\n      <td>ATL</td>\n      <td>AUS</td>\n      <td>813.0</td>\n      <td>1.0</td>\n    </tr>\n    <tr>\n      <th>2</th>\n      <td>2010-01-23</td>\n      <td>10:53</td>\n      <td>9E</td>\n      <td>ATL</td>\n      <td>AUS</td>\n      <td>813.0</td>\n      <td>0.0</td>\n    </tr>\n    <tr>\n      <th>3</th>\n      <td>2010-01-30</td>\n      <td>10:47</td>\n      <td>9E</td>\n      <td>ATL</td>\n      <td>AUS</td>\n      <td>813.0</td>\n      <td>0.0</td>\n    </tr>\n    <tr>\n      <th>4</th>\n      <td>2010-01-05</td>\n      <td>17:53</td>\n      <td>9E</td>\n      <td>ATL</td>\n      <td>RDU</td>\n      <td>356.0</td>\n      <td>0.0</td>\n    </tr>\n  </tbody>\n</table>\n</div>"
     },
     "metadata": {},
     "execution_count": 3
    }
   ],
   "source": [
    "df = pd.read_csv('data/airline_delay_train.csv')\n",
    "df.head()"
   ]
  },
  {
   "cell_type": "code",
   "execution_count": 4,
   "metadata": {},
   "outputs": [],
   "source": [
    "X = df.drop('dep_delayed_15min', axis=1)\n",
    "y = df['dep_delayed_15min']"
   ]
  },
  {
   "source": [
    "#### Define Preprocessing Pipeline"
   ],
   "cell_type": "markdown",
   "metadata": {}
  },
  {
   "cell_type": "code",
   "execution_count": 4,
   "metadata": {},
   "outputs": [],
   "source": [
    "#Preprocessing for categorical features\n",
    "categorical_features = ['UniqueCarrier', 'Origin', 'Dest', 'FlightDate_Month']\n",
    "categorical_transformer = Pipeline(steps=[\n",
    "    ('imputer', SimpleImputer(strategy='constant', fill_value='missing')),\n",
    "    ('onehot', OneHotEncoder(handle_unknown='ignore'))])\n",
    "\n",
    "#Preprocessor with all of the steps\n",
    "preprocessor = ColumnTransformer(\n",
    "    transformers=[\n",
    "        ('cat', categorical_transformer, categorical_features)])\n",
    "\n",
    "model = RandomForestClassifier(n_estimators = 5)\n",
    "\n",
    "# Full preprocessing pipeline\n",
    "pipeline = Pipeline(steps=[('preprocessor', preprocessor), ('model',model)])"
   ]
  },
  {
   "source": [
    "#### Other preprocessing steps"
   ],
   "cell_type": "markdown",
   "metadata": {}
  },
  {
   "cell_type": "code",
   "execution_count": 5,
   "metadata": {},
   "outputs": [],
   "source": [
    "# Preprocess DepTime\n",
    "def time_transformer(value):\n",
    "    return str(value).replace(':','')\n",
    "X['DepTime'] = X['DepTime'].apply(lambda x: time_transformer(x))\n",
    "\n",
    "# Preprocess FlightDate\n",
    "X['FlightDate'] = pd.to_datetime(X['FlightDate'])\n",
    "X['FlightDate_Year'] = X['FlightDate'].dt.year\n",
    "X['FlightDate_Month'] = X['FlightDate'].dt.month\n",
    "X['FlightDate_Day'] = X['FlightDate'].dt.day\n",
    "\n",
    "X = X.drop('FlightDate',axis=1)"
   ]
  },
  {
   "cell_type": "markdown",
   "metadata": {},
   "source": [
    "#### "
   ]
  },
  {
   "cell_type": "code",
   "execution_count": 6,
   "metadata": {},
   "outputs": [
    {
     "output_type": "execute_result",
     "data": {
      "text/plain": [
       "Pipeline(steps=[('preprocessor',\n",
       "                 ColumnTransformer(transformers=[('cat',\n",
       "                                                  Pipeline(steps=[('imputer',\n",
       "                                                                   SimpleImputer(fill_value='missing',\n",
       "                                                                                 strategy='constant')),\n",
       "                                                                  ('onehot',\n",
       "                                                                   OneHotEncoder(handle_unknown='ignore'))]),\n",
       "                                                  ['UniqueCarrier', 'Origin',\n",
       "                                                   'Dest',\n",
       "                                                   'FlightDate_Month'])])),\n",
       "                ('model', RandomForestClassifier(n_estimators=5))])"
      ]
     },
     "metadata": {},
     "execution_count": 6
    }
   ],
   "source": [
    "#Train the model-Pipeline\n",
    "pipeline.fit(X,y)"
   ]
  },
  {
   "cell_type": "markdown",
   "metadata": {},
   "source": [
    "#### Save Model"
   ]
  },
  {
   "cell_type": "code",
   "execution_count": 7,
   "metadata": {},
   "outputs": [],
   "source": [
    "with open('custom_model/custom.pkl', 'wb') as pkl:\n",
    "    pickle.dump(pipeline, pkl)"
   ]
  }
 ],
 "metadata": {
  "kernelspec": {
   "name": "python3",
   "display_name": "Python 3.7.8 64-bit ('full_data_science_stack': conda)",
   "metadata": {
    "interpreter": {
     "hash": "4b8eb21eff7a53f32611269acaf8ccd63aef1a92230851f3d7488842e2f846e6"
    }
   }
  },
  "language_info": {
   "codemirror_mode": {
    "name": "ipython",
    "version": 3
   },
   "file_extension": ".py",
   "mimetype": "text/x-python",
   "name": "python",
   "nbconvert_exporter": "python",
   "pygments_lexer": "ipython3",
   "version": "3.7.8-final"
  }
 },
 "nbformat": 4,
 "nbformat_minor": 2
}